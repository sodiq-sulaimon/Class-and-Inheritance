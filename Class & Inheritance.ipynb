{
 "cells": [
  {
   "cell_type": "code",
   "execution_count": 104,
   "id": "34e096a3",
   "metadata": {},
   "outputs": [],
   "source": [
    "class Coordinate(object):\n",
    "    def __init__(self, x, y):\n",
    "        self.x = x\n",
    "        self.y = y\n",
    "    def distance(self, other):\n",
    "        x_diff_sq = (self.x - other.x) ** 2\n",
    "        y_diff_sq = (self.y - other.y) ** 2\n",
    "        dist = (x_diff_sq + y_diff_sq) ** 0.5\n",
    "        return dist\n",
    "    def __str__(self):\n",
    "        return \"<\" + str(self.x) + \",\" + \" \" + str(self.y) + \">\"\n",
    "    def __add__(self, other):\n",
    "        return Coordinate(self.x + other.x, self.y + other.y)"
   ]
  },
  {
   "cell_type": "code",
   "execution_count": 200,
   "id": "57b6b18f",
   "metadata": {},
   "outputs": [],
   "source": [
    "class Fraction(object):\n",
    "    \"\"\"A number represented as fraction\"\"\"\n",
    "    def __init__(self, num, den):\n",
    "        \"\"\" num and dem are integers\"\"\"\n",
    "        assert type(num) == int and type(den) == int, \"Numbers must be type int\"\n",
    "        self.num = num\n",
    "        self.den = den\n",
    "    def __add__(self, other):\n",
    "        \"\"\"adds two fractions\"\"\"\n",
    "        top = self.num * other.den + self.den * other.num\n",
    "        bott = self.den * other.den\n",
    "        return Fraction(top, bott)\n",
    "    def __str__(self):\n",
    "        \"\"\"Prints the fraction\"\"\"\n",
    "        return str(self.num) + \"/\" + str(self.den)\n",
    "    def inverse(self):\n",
    "        \"\"\"Returns the inverse of a fraction\"\"\"\n",
    "        return Fraction(self.den, self.num)\n",
    "    def float(self):\n",
    "        \"\"\"Returns the float value of a fraction\"\"\"\n",
    "        return self.num / self.den"
   ]
  },
  {
   "cell_type": "code",
   "execution_count": 107,
   "id": "393b1ba4",
   "metadata": {},
   "outputs": [],
   "source": [
    "# Parent class \n",
    "class Animal(object):\n",
    "    def __init__(self, age):\n",
    "        self.age = age\n",
    "        self.name = None\n",
    "    def get_age(self): # getter\n",
    "        return self.age\n",
    "    def get_name(self):\n",
    "        return self.name\n",
    "    def set_age(self, new_age):\n",
    "        self.age = newage\n",
    "    def set_name(self, new_name = \"Cutie\"): # setter, Cutie is the default value\n",
    "        self.name = new_name\n",
    "    def __str__(self):\n",
    "        return \"Animal: \" + self.name + \",\" + \" age: \" + str(self.age)"
   ]
  },
  {
   "cell_type": "code",
   "execution_count": 108,
   "id": "3fa70789",
   "metadata": {},
   "outputs": [],
   "source": [
    "# Inheritance - Person inheritting from Animal\n",
    "class Person(Animal):\n",
    "    def __init__(self, age, name): \n",
    "        Animal.__init__(self, age) # call Animal constructor\n",
    "        self.set_name(name) # call Animal method\n",
    "        self.friends = [] # create new data attribute\n",
    "    def get_friends(self): # create new method (getter)\n",
    "        return self.friend\n",
    "    def add_friends(self, fname): # create new method (setter)\n",
    "        if fname not in self.friends:\n",
    "            self.friends.append(fname)\n",
    "    def speak (self):\n",
    "        print(\"Hello\")\n",
    "    def age_diff(self, other):\n",
    "        diff = self.age - other.age\n",
    "        return \"Age Diff.: \" + str(abs(diff)) + \" years\"\n",
    "    def __str__(self):\n",
    "        return \"Person: \" + self.name + \",\" + \" age: \" + str(self.age) # overrides __str__ from parent\n",
    "        "
   ]
  },
  {
   "cell_type": "code",
   "execution_count": 109,
   "id": "e47c945b",
   "metadata": {},
   "outputs": [],
   "source": [
    "# Inheritance - Cat inheritting from Animal\n",
    "class Cat(Animal): # Inherits everything from the parent Animal. uses the __init__ constructor\n",
    "    def speak(self):\n",
    "        print(\"Meow\")\n",
    "    def __str__(self):\n",
    "        return \"Cat: \" + self.name + \",\" + \" age: \" + str(age)\n",
    "    "
   ]
  },
  {
   "cell_type": "code",
   "execution_count": 184,
   "id": "ffd961ac",
   "metadata": {},
   "outputs": [],
   "source": [
    "# Inheritance - Student inheritting from Person\n",
    "import random\n",
    "\n",
    "class Student(Person):\n",
    "    def __init__(self, age, name, major=None): # default major is None\n",
    "        Person.__init__(self, age, name)\n",
    "        self.major = major\n",
    "    def change_major(self, nmajor):\n",
    "        self.major = nmajor\n",
    "    def speak(self):\n",
    "        r = random.random() # generates float between 0 and 1\n",
    "        if r < 0.25:\n",
    "            print(\"I am studying\")\n",
    "        elif 0.25 <= r < 0.5:\n",
    "            print(\"I need sleep\")\n",
    "        elif 0.5 <= r < 0.75:\n",
    "            print(\"I need to eat\")\n",
    "        else:\n",
    "            print(\"I'm watching TV\")\n",
    "    def __str__(self):\n",
    "        return \"Student: \" + self.name + \",\" + \" age: \" + self.age + \",\" + \" major: \" + self.major "
   ]
  },
  {
   "cell_type": "code",
   "execution_count": 200,
   "id": "6dd36626",
   "metadata": {},
   "outputs": [],
   "source": [
    "class Rabbit(Animal):\n",
    "    tag = 1\n",
    "    def __init__(self, age, parent1=None, parent2=None):\n",
    "        Animal.__init__(self, age)\n",
    "        self.parent1 = parent1\n",
    "        self.parent2 = parent2\n",
    "        self.rid = Rabbit.tag\n",
    "        Rabbit.tag += 1\n",
    "    def get_parent1 (self):\n",
    "        return self.parent1\n",
    "    def get_parent2 (self):\n",
    "        return self.parent2\n",
    "    def get_rid(self):\n",
    "        return str(self.rid).zfill(3) # zfill adds zeros at the beginning of a string\n",
    "    def __add__(self, other): # mate two rabbits\n",
    "        return Rabbit(0, self, other) # age = 0, parent1 = self, parent2 = other (based on Rabbit init constructor)\n",
    "        "
   ]
  }
 ],
 "metadata": {
  "kernelspec": {
   "display_name": "Python 3 (ipykernel)",
   "language": "python",
   "name": "python3"
  },
  "language_info": {
   "codemirror_mode": {
    "name": "ipython",
    "version": 3
   },
   "file_extension": ".py",
   "mimetype": "text/x-python",
   "name": "python",
   "nbconvert_exporter": "python",
   "pygments_lexer": "ipython3",
   "version": "3.9.12"
  }
 },
 "nbformat": 4,
 "nbformat_minor": 5
}
